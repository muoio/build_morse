{
  "nbformat": 4,
  "nbformat_minor": 0,
  "metadata": {
    "colab": {
      "provenance": []
    },
    "kernelspec": {
      "name": "python3",
      "display_name": "Python 3"
    },
    "language_info": {
      "name": "python"
    }
  },
  "cells": [
    {
      "cell_type": "code",
      "execution_count": 1,
      "metadata": {
        "id": "oJcejqlvIM4w"
      },
      "outputs": [],
      "source": [
        "# %%\n",
        "import os\n",
        "import glob\n",
        "import librosa\n",
        "# import librosa.display as ldp\n",
        "# import IPython.display as idp\n",
        "import matplotlib.pyplot as plt\n",
        "# import numpy as np\n",
        "# import seaborn as sns\n",
        "# import tensorflow as tf\n",
        "# from sklearn.svm import SVC\n",
        "import pandas as pd\n",
        "from sklearn.cluster import MiniBatchKMeans\n",
        "from collections import defaultdict\n",
        "import re\n",
        "from math import log2"
      ]
    },
    {
      "cell_type": "code",
      "source": [
        "\n",
        "# import cv2\n",
        "# import keras\n",
        "# from tensorflow.keras.models import Sequential\n",
        "# from tensorflow.keras.layers import Dense, Flatten, Conv2D, MaxPooling2D, Dropout, Activation, BatchNormalization\n",
        "# from sklearn.model_selection import train_test_split\n",
        "# from sklearn import metrics\n",
        "\n",
        "\n",
        "# %%\n",
        "morse_table = {}\n",
        "morse_table = defaultdict(lambda: '?',morse_table)\n",
        "morse_table = {\n",
        "      '.-':'A', '-...':'B', '-.-.':'C', '-..':'D', '.':'E',\n",
        "      '..-.':'F', '--.':'G', '....':'H', '..':'I', '.---':'J',\n",
        "      '-.-':'K', '.-..' : 'L', '--' :'M', '-.' :'N', '---':'O',\n",
        "      '.--.' : 'P', '--.-' : 'Q', '.-.':'R', '...':'S', '-'  :'T',\n",
        "      '..-':'U', '...-' : 'V', '.--':'W', '-..-' : 'X', '-.--' : 'Y',\n",
        "      '--..' : 'Z', '.----' : '1', '..---' : '2', '...--' : '3', \n",
        "      '....-' : '4', '.....' : '5', '-....' : '6', '--...' : '7', \n",
        "      '---..' : '8','----.' : '9','-----' : '0',\n",
        "      '-...-' : '=', '.-.-':'~', '.-...' :'<AS>', '.-.-.' : '<AR>', '...-.-' : '<SK>',\n",
        "      '-.--.' : '<KN>', '..-.-' : '<INT>', '....--' : '<HM>', '...-.' : '<VE>',\n",
        "      '.-..-.' : '\\\\', '.----.' : '\\'', '...-..-' : '$', '-.--.' : '(', '-.--.-' : ')', \n",
        "      '--..--' : ',', '-....-' : '-', '.-.-.-' : '.', '-..-.' : '/', '---...' : ':', \n",
        "      '-.-.-.' : ';', '..--..' : '?', '..--.-' : '_', '.--.-.' : '@', '-.-.--' : '!'\n",
        "    }\n",
        "morse_table.setdefault('?')\n",
        "'''\n",
        "def morse_to_text(morse_code):\n",
        "    res = \"\"\n",
        "    tmp = ''\n",
        "    morse_code += ' '\n",
        "    for i in range(len(morse_code)):\n",
        "        c = morse_code[i]\n",
        "        if c == ' ':\n",
        "            if (len(tmp)>0):\n",
        "                if (len(tmp) > 5):\n",
        "                    tmp = tmp[:5]\n",
        "                while (len(tmp) < 5):\n",
        "                    if (tmp[0] == '-'):\n",
        "                        tmp = '-' + tmp\n",
        "                    else:\n",
        "                        tmp = tmp + '-'\n",
        "                if (tmp in morse_table):\n",
        "                    res += morse_table[tmp]\n",
        "                else:\n",
        "                    res += '?'\n",
        "            tmp = ''\n",
        "            res += ' '\n",
        "        else:\n",
        "            tmp += c\n",
        "    return res'''\n",
        "def morse_to_text(morse_code):\n",
        "    res = \"\"\n",
        "    tmp = ''\n",
        "    morse_code += ' '\n",
        "    for i in range(len(morse_code)):\n",
        "        c = morse_code[i]\n",
        "        if c == ' ':\n",
        "            if (len(tmp)>0):\n",
        "                if (tmp in morse_table):\n",
        "                    res += morse_table[tmp]\n",
        "                else:\n",
        "                    res += '?'\n",
        "            tmp = ''\n",
        "            res += ' '\n",
        "        else:\n",
        "            tmp += c\n",
        "    return res\n",
        "\n",
        "# %%\n",
        "def get_index(start,end,step):\n",
        "    return list(range(round(start/step),round(end/step)))\n",
        "    \n",
        "def gan_nhan (link_file,step):\n",
        "    res = []\n",
        "    with open(link_file) as f:\n",
        "        for line in f:\n",
        "            start,end,label = line.split('\\t')\n",
        "            start = float(start)\n",
        "            end = float(end)\n",
        "            step = float(step)\n",
        "            res.extend(get_index(start,end,step))\n",
        "    return(res)\n",
        "\n",
        "# %%\n",
        "#rms, spectral_bandwidth(birch), spectral_rolloff(agg,miniKmeans)\n",
        "#MiniBatchKMeans, KMeans: tonnetz 92%, spectral_rolloff 70%, spectral_bandwidth 72%, melspectrogram 85%, \n",
        "#spectral_rolloff \n",
        "def read(wav_file):\n",
        "    step = 0.0\n",
        "    signal,sr = librosa.load(wav_file)\n",
        "    tonnetz = librosa.feature.tonnetz(y=signal,sr=sr, hop_length=128)\n",
        "    #delta_tonnetz = librosa.feature.delta(tonnetz)\n",
        "    #melspectrogram = librosa.feature.melspectrogram(signal,sr=sr, hop_length=128)\n",
        "    features = tonnetz#np.concatenate((tonnetz))\n",
        "    duration = librosa.get_duration(y=signal,sr=sr)\n",
        "    num_tonnetz_cens = features.shape[1]\n",
        "    step = duration/num_tonnetz_cens\n",
        "    x = features.transpose()\n",
        "    return x,step\n",
        "    \n",
        "\n",
        "# %%\n",
        "def rename_folder(link_folder):\n",
        "    for filename in glob.glob(link_folder+'*.wav'):\n",
        "        os.rename(filename,filename.replace(' ','_'))\n",
        "\n",
        "\n",
        "# %%\n",
        "def predict_morse(pred,step):\n",
        "    len_space = int(log2(step))\n",
        "    counter = [0,0]\n",
        "    equal_seq = 1\n",
        "    res = \"\"\n",
        "    counter[pred[0]] = 1\n",
        "    for i in range(1,len(pred)):\n",
        "        if (pred[i] == pred[i-1]):\n",
        "            equal_seq += 1\n",
        "            counter[pred[i]] += 1\n",
        "        else:\n",
        "            #if equal_seq >2:\n",
        "            if counter[1] > 13:\n",
        "                res += '-'\n",
        "            elif counter[1] > 0:\n",
        "                res += '.'\n",
        "            elif counter[0] > 22:\n",
        "                res += ' '* (counter[0] // 21)\n",
        "            \n",
        "            counter = [0,0]\n",
        "            counter[pred[i]] = 1\n",
        "            \n",
        "            equal_seq = 1\n",
        "    #res = re.sub(' +',' ',res)\n",
        "    return res\n",
        "\n",
        "# %%\n",
        "def flatten_pred(pred):\n",
        "    fat_pred = pred\n",
        "    counter = 0\n",
        "    for i in range(1,len(pred)-1):\n",
        "        if fat_pred[i-1] == 1 and fat_pred[i]==0 and fat_pred[i+1]==1:\n",
        "            fat_pred[i] = 0\n",
        "        elif i+2<len(pred):\n",
        "            if fat_pred[i-1] == 1 and fat_pred[i]==0 and fat_pred[i+1]==0 and fat_pred[i+2] ==0:\n",
        "                fat_pred[i]=0\n",
        "                fat_pred[i+1]=0\n",
        "    return fat_pred\n",
        "\n",
        "# %%\n",
        "#every 20s\n",
        "\n",
        "def MiniKMeans(Xt):\n",
        "    while True:\n",
        "        minikmeans =MiniBatchKMeans(n_clusters=2,n_init=2,reassignment_ratio=0.5).fit(Xt)\n",
        "        pred = minikmeans.labels_\n",
        "        if pred[0]==0:\n",
        "            break\n",
        "    return pred\n",
        "\n",
        "# %%\n",
        "def pred_to_label(pred,step,filename):\n",
        "    fo = open(filename,'w')\n",
        "    start = 0\n",
        "    for i in range(1,len(pred)):\n",
        "        if (pred[i] == 1 and pred[i-1]==0):\n",
        "            start = i\n",
        "        elif pred[i]==0 and pred[i-1] ==1 :\n",
        "            start_time = start*step\n",
        "            end_time = i*step\n",
        "            fo.write('{}\\t{}\\t1\\n'.format(start_time,end_time))\n",
        "    fo.close()\n",
        "\n",
        "\n",
        "# %%\n",
        "def predict_folder(link_folder,output_folder):\n",
        "    for filename in glob.glob(link_folder+'*.wav'):\n",
        "        os.rename(filename,filename.replace(' ','_'))\n",
        "    for wav in glob.glob(link_folder+'*.wav'):\n",
        "        X, step = read(wav)\n",
        "        \n",
        "        while True:\n",
        "            minikmeans =MiniBatchKMeans(n_clusters=2,n_init=2,reassignment_ratio=0.5).fit(X)\n",
        "            pred = minikmeans.labels_\n",
        "            if pred[0]==0:\n",
        "                break\n",
        "        text = predict_morse(pred,step)\n",
        "        output_filename = os.path.basename(wav)[:-4]+'.txt'\n",
        "        \n",
        "        fo = open(output_folder+'text/'+output_filename,'w')\n",
        "        fo.write(morse_to_text(text))\n",
        "        fo.close()\n",
        "        \n",
        "        fo = open(output_folder+'code/'+output_filename,'w')\n",
        "        fo.write(text)\n",
        "        fo.close()\n",
        "        \n",
        "        pred_to_label(pred,step,link_folder+output_filename)\n",
        "\n",
        "# %%"
      ],
      "metadata": {
        "id": "7eGRN3-8IfTe"
      },
      "execution_count": 2,
      "outputs": []
    },
    {
      "cell_type": "code",
      "source": [],
      "metadata": {
        "id": "ASoU9e35JulW"
      },
      "execution_count": null,
      "outputs": []
    },
    {
      "cell_type": "code",
      "source": [
        "\n",
        "X,step = read(r'/home/morse_sound.wav')\n",
        "\n",
        "# %%\n",
        "pred = MiniKMeans(X)\n",
        "\n",
        "flaten_pred = predict_morse(flatten_pred(pred),step)\n",
        "straight_pred = predict_morse(pred,step)\n",
        "print('flaten_pred ',flaten_pred)\n",
        "print('straight_pred ',straight_pred)\n",
        "\n",
        "# %%\n",
        "while True:\n",
        "    minikmeans =MiniBatchKMeans(n_clusters=2,max_no_improvement=20,reassignment_ratio=0.5).fit(X)\n",
        "    pred = minikmeans.labels_\n",
        "    if pred[0]==0:\n",
        "        break\n",
        "    \n",
        "flaten_pred = predict_morse(flatten_pred(pred),step)\n",
        "straight_pred = predict_morse(pred,step)\n",
        "print('flaten_pred ',flaten_pred)\n",
        "print('straight_pred ',straight_pred)\n",
        "\n",
        "# %%\n",
        "pred_to_label(pred,step,'pred.txt')\n",
        "\n",
        "# %%\n",
        "pred_to_label(flatten_pred(pred), step,'flatten_pred.txt')\n",
        "\n",
        "# %%\n",
        "\n",
        "# %%\n",
        "morse_to_text('.- .-')"
      ],
      "metadata": {
        "colab": {
          "base_uri": "https://localhost:8080/",
          "height": 403
        },
        "id": "8l2_eFG7IoIw",
        "outputId": "cddfe097-a150-41ca-a57f-5acc5ce1bbcc"
      },
      "execution_count": 7,
      "outputs": [
        {
          "output_type": "stream",
          "name": "stdout",
          "text": [
            "flaten_pred  - ..-. . .... -. ... . --. .... - -. ... . ... --- - .... - - .... - -.  . . ... . ... . .. .... . . . --...\n",
            "straight_pred  - ..-. . .... -. ... . --. .... - -. ... . ... --- - .... - - .... - -.  . . ... . ... . .. .... . . . --...\n"
          ]
        },
        {
          "output_type": "stream",
          "name": "stderr",
          "text": [
            "/usr/local/lib/python3.9/dist-packages/sklearn/cluster/_kmeans.py:870: FutureWarning: The default value of `n_init` will change from 3 to 'auto' in 1.4. Set the value of `n_init` explicitly to suppress the warning\n",
            "  warnings.warn(\n",
            "/usr/local/lib/python3.9/dist-packages/sklearn/cluster/_kmeans.py:870: FutureWarning: The default value of `n_init` will change from 3 to 'auto' in 1.4. Set the value of `n_init` explicitly to suppress the warning\n",
            "  warnings.warn(\n",
            "/usr/local/lib/python3.9/dist-packages/sklearn/cluster/_kmeans.py:870: FutureWarning: The default value of `n_init` will change from 3 to 'auto' in 1.4. Set the value of `n_init` explicitly to suppress the warning\n",
            "  warnings.warn(\n",
            "/usr/local/lib/python3.9/dist-packages/sklearn/cluster/_kmeans.py:870: FutureWarning: The default value of `n_init` will change from 3 to 'auto' in 1.4. Set the value of `n_init` explicitly to suppress the warning\n",
            "  warnings.warn(\n",
            "/usr/local/lib/python3.9/dist-packages/sklearn/cluster/_kmeans.py:870: FutureWarning: The default value of `n_init` will change from 3 to 'auto' in 1.4. Set the value of `n_init` explicitly to suppress the warning\n",
            "  warnings.warn(\n",
            "/usr/local/lib/python3.9/dist-packages/sklearn/cluster/_kmeans.py:870: FutureWarning: The default value of `n_init` will change from 3 to 'auto' in 1.4. Set the value of `n_init` explicitly to suppress the warning\n",
            "  warnings.warn(\n",
            "/usr/local/lib/python3.9/dist-packages/sklearn/cluster/_kmeans.py:870: FutureWarning: The default value of `n_init` will change from 3 to 'auto' in 1.4. Set the value of `n_init` explicitly to suppress the warning\n",
            "  warnings.warn(\n",
            "/usr/local/lib/python3.9/dist-packages/sklearn/cluster/_kmeans.py:870: FutureWarning: The default value of `n_init` will change from 3 to 'auto' in 1.4. Set the value of `n_init` explicitly to suppress the warning\n",
            "  warnings.warn(\n"
          ]
        },
        {
          "output_type": "stream",
          "name": "stdout",
          "text": [
            "flaten_pred  - ..-. . .... . . ... . --. .... - -. ... . ... --- . .... - - .... - -.  . . ... . . .. . .. .... . . . --...\n",
            "straight_pred  - ..-. . .... . . ... . --. .... - -. ... . ... --- . .... - - .... - -.  . . ... . . .. . .. .... . . . --...\n"
          ]
        },
        {
          "output_type": "execute_result",
          "data": {
            "text/plain": [
              "'A A '"
            ],
            "application/vnd.google.colaboratory.intrinsic+json": {
              "type": "string"
            }
          },
          "metadata": {},
          "execution_count": 7
        }
      ]
    },
    {
      "cell_type": "code",
      "source": [
        "!pip3 install --upgrade pyinstaller\n"
      ],
      "metadata": {
        "colab": {
          "base_uri": "https://localhost:8080/"
        },
        "id": "hK29LKkcJvuM",
        "outputId": "762ccd12-ee10-4c6f-9239-7a23c0bd572b"
      },
      "execution_count": 13,
      "outputs": [
        {
          "output_type": "stream",
          "name": "stdout",
          "text": [
            "Looking in indexes: https://pypi.org/simple, https://us-python.pkg.dev/colab-wheels/public/simple/\n",
            "Requirement already satisfied: pyinstaller in /usr/local/lib/python3.9/dist-packages (5.10.0)\n",
            "Requirement already satisfied: altgraph in /usr/local/lib/python3.9/dist-packages (from pyinstaller) (0.17.3)\n",
            "Requirement already satisfied: setuptools>=42.0.0 in /usr/local/lib/python3.9/dist-packages (from pyinstaller) (67.6.1)\n",
            "Requirement already satisfied: pyinstaller-hooks-contrib>=2021.4 in /usr/local/lib/python3.9/dist-packages (from pyinstaller) (2023.2)\n"
          ]
        }
      ]
    },
    {
      "cell_type": "code",
      "source": [
        "!pyinstaller --onefile '/home/m.py'"
      ],
      "metadata": {
        "colab": {
          "base_uri": "https://localhost:8080/"
        },
        "id": "Nz-NADC7Kjng",
        "outputId": "b55c32c0-74c5-4005-a3da-dc3167eb65fe"
      },
      "execution_count": 14,
      "outputs": [
        {
          "output_type": "stream",
          "name": "stdout",
          "text": [
            "The 'pathlib' package is an obsolete backport of a standard library package and is incompatible with PyInstaller. Please remove this package (located in /usr/local/lib/python3.9/dist-packages) using\n",
            "    \"/usr/bin/python3\" -m pip uninstall pathlib\n",
            "then try again.\n"
          ]
        }
      ]
    },
    {
      "cell_type": "code",
      "source": [
        "!pip install cx_freeze"
      ],
      "metadata": {
        "colab": {
          "base_uri": "https://localhost:8080/"
        },
        "id": "NU_0g12yL3Kf",
        "outputId": "a62eb38f-4f50-4b8a-c1a0-95e0519e193e"
      },
      "execution_count": 15,
      "outputs": [
        {
          "output_type": "stream",
          "name": "stdout",
          "text": [
            "Looking in indexes: https://pypi.org/simple, https://us-python.pkg.dev/colab-wheels/public/simple/\n",
            "Collecting cx_freeze\n",
            "  Downloading cx_Freeze-6.14.9-cp39-cp39-manylinux_2_17_x86_64.manylinux2014_x86_64.whl (10.1 MB)\n",
            "\u001b[2K     \u001b[90m━━━━━━━━━━━━━━━━━━━━━━━━━━━━━━━━━━━━━━━━\u001b[0m \u001b[32m10.1/10.1 MB\u001b[0m \u001b[31m42.6 MB/s\u001b[0m eta \u001b[36m0:00:00\u001b[0m\n",
            "\u001b[?25hRequirement already satisfied: setuptools<68,>=62.6 in /usr/local/lib/python3.9/dist-packages (from cx_freeze) (67.6.1)\n",
            "Collecting patchelf>=0.14\n",
            "  Downloading patchelf-0.17.2.1-py2.py3-none-manylinux_2_5_x86_64.manylinux1_x86_64.musllinux_1_1_x86_64.whl (425 kB)\n",
            "\u001b[2K     \u001b[90m━━━━━━━━━━━━━━━━━━━━━━━━━━━━━━━━━━━━━━\u001b[0m \u001b[32m425.7/425.7 kB\u001b[0m \u001b[31m31.8 MB/s\u001b[0m eta \u001b[36m0:00:00\u001b[0m\n",
            "\u001b[?25hInstalling collected packages: patchelf, cx_freeze\n",
            "Successfully installed cx_freeze-6.14.9 patchelf-0.17.2.1\n"
          ]
        }
      ]
    },
    {
      "cell_type": "code",
      "source": [
        "!python '/home/setup.py'"
      ],
      "metadata": {
        "colab": {
          "base_uri": "https://localhost:8080/"
        },
        "id": "w35mNnUzL9qF",
        "outputId": "6a106209-dc76-4642-8cc6-8a3124d7788a"
      },
      "execution_count": 16,
      "outputs": [
        {
          "output_type": "stream",
          "name": "stdout",
          "text": [
            "Traceback (most recent call last):\n",
            "  File \"/home/setup.py\", line 18, in <module>\n",
            "    executables=[Executable(\"m.py\", base=base)],\n",
            "  File \"/usr/local/lib/python3.9/dist-packages/cx_Freeze/executable.py\", line 53, in __init__\n",
            "    self.base = base\n",
            "  File \"/usr/local/lib/python3.9/dist-packages/cx_Freeze/executable.py\", line 95, in base\n",
            "    raise ConfigError(f\"no base named {name!r} ({name_base!r})\")\n",
            "cx_Freeze.exception.ConfigError: no base named 'Win32GUI' ('Win32GUI-cpython-39-x86_64-linux-gnu')\n"
          ]
        }
      ]
    },
    {
      "cell_type": "code",
      "source": [
        "!sudo apt-get install mingw-w64"
      ],
      "metadata": {
        "colab": {
          "base_uri": "https://localhost:8080/"
        },
        "id": "f6vim-juMsgp",
        "outputId": "93153931-3ad6-485a-f9f7-57b5c96c4d38"
      },
      "execution_count": 17,
      "outputs": [
        {
          "output_type": "stream",
          "name": "stdout",
          "text": [
            "Reading package lists... Done\n",
            "Building dependency tree       \n",
            "Reading state information... Done\n",
            "The following additional packages will be installed:\n",
            "  binutils-mingw-w64-i686 binutils-mingw-w64-x86-64 g++-mingw-w64\n",
            "  g++-mingw-w64-i686 g++-mingw-w64-x86-64 gcc-mingw-w64 gcc-mingw-w64-base\n",
            "  gcc-mingw-w64-i686 gcc-mingw-w64-x86-64 mingw-w64-common mingw-w64-i686-dev\n",
            "  mingw-w64-x86-64-dev\n",
            "Suggested packages:\n",
            "  gcc-9-locales wine wine64\n",
            "The following NEW packages will be installed:\n",
            "  binutils-mingw-w64-i686 binutils-mingw-w64-x86-64 g++-mingw-w64\n",
            "  g++-mingw-w64-i686 g++-mingw-w64-x86-64 gcc-mingw-w64 gcc-mingw-w64-base\n",
            "  gcc-mingw-w64-i686 gcc-mingw-w64-x86-64 mingw-w64 mingw-w64-common\n",
            "  mingw-w64-i686-dev mingw-w64-x86-64-dev\n",
            "0 upgraded, 13 newly installed, 0 to remove and 24 not upgraded.\n",
            "Need to get 148 MB of archives.\n",
            "After this operation, 875 MB of additional disk space will be used.\n",
            "Get:1 http://archive.ubuntu.com/ubuntu focal/universe amd64 binutils-mingw-w64-i686 amd64 2.34-5ubuntu1+8.8 [2,383 kB]\n",
            "Get:2 http://archive.ubuntu.com/ubuntu focal/universe amd64 binutils-mingw-w64-x86-64 amd64 2.34-5ubuntu1+8.8 [2,732 kB]\n",
            "Get:3 http://archive.ubuntu.com/ubuntu focal/universe amd64 mingw-w64-common all 7.0.0-2 [4,855 kB]\n",
            "Get:4 http://archive.ubuntu.com/ubuntu focal/universe amd64 mingw-w64-i686-dev all 7.0.0-2 [2,669 kB]\n",
            "Get:5 http://archive.ubuntu.com/ubuntu focal/universe amd64 gcc-mingw-w64-base amd64 9.3.0-7ubuntu1+22~exp1ubuntu4 [179 kB]\n",
            "Get:6 http://archive.ubuntu.com/ubuntu focal/universe amd64 gcc-mingw-w64-i686 amd64 9.3.0-7ubuntu1+22~exp1ubuntu4 [36.8 MB]\n",
            "Get:7 http://archive.ubuntu.com/ubuntu focal/universe amd64 g++-mingw-w64-i686 amd64 9.3.0-7ubuntu1+22~exp1ubuntu4 [28.0 MB]\n",
            "Get:8 http://archive.ubuntu.com/ubuntu focal/universe amd64 mingw-w64-x86-64-dev all 7.0.0-2 [3,557 kB]\n",
            "Get:9 http://archive.ubuntu.com/ubuntu focal/universe amd64 gcc-mingw-w64-x86-64 amd64 9.3.0-7ubuntu1+22~exp1ubuntu4 [37.0 MB]\n",
            "Get:10 http://archive.ubuntu.com/ubuntu focal/universe amd64 g++-mingw-w64-x86-64 amd64 9.3.0-7ubuntu1+22~exp1ubuntu4 [29.1 MB]\n",
            "Get:11 http://archive.ubuntu.com/ubuntu focal/universe amd64 g++-mingw-w64 all 9.3.0-7ubuntu1+22~exp1ubuntu4 [178 kB]\n",
            "Get:12 http://archive.ubuntu.com/ubuntu focal/universe amd64 gcc-mingw-w64 all 9.3.0-7ubuntu1+22~exp1ubuntu4 [178 kB]\n",
            "Get:13 http://archive.ubuntu.com/ubuntu focal/universe amd64 mingw-w64 all 7.0.0-2 [9,188 B]\n",
            "Fetched 148 MB in 6s (22.8 MB/s)\n",
            "debconf: unable to initialize frontend: Dialog\n",
            "debconf: (No usable dialog-like program is installed, so the dialog based frontend cannot be used. at /usr/share/perl5/Debconf/FrontEnd/Dialog.pm line 76, <> line 13.)\n",
            "debconf: falling back to frontend: Readline\n",
            "debconf: unable to initialize frontend: Readline\n",
            "debconf: (This frontend requires a controlling tty.)\n",
            "debconf: falling back to frontend: Teletype\n",
            "dpkg-preconfigure: unable to re-open stdin: \n",
            "Selecting previously unselected package binutils-mingw-w64-i686.\n",
            "(Reading database ... 122349 files and directories currently installed.)\n",
            "Preparing to unpack .../00-binutils-mingw-w64-i686_2.34-5ubuntu1+8.8_amd64.deb ...\n",
            "Unpacking binutils-mingw-w64-i686 (2.34-5ubuntu1+8.8) ...\n",
            "Selecting previously unselected package binutils-mingw-w64-x86-64.\n",
            "Preparing to unpack .../01-binutils-mingw-w64-x86-64_2.34-5ubuntu1+8.8_amd64.deb ...\n",
            "Unpacking binutils-mingw-w64-x86-64 (2.34-5ubuntu1+8.8) ...\n",
            "Selecting previously unselected package mingw-w64-common.\n",
            "Preparing to unpack .../02-mingw-w64-common_7.0.0-2_all.deb ...\n",
            "Unpacking mingw-w64-common (7.0.0-2) ...\n",
            "Selecting previously unselected package mingw-w64-i686-dev.\n",
            "Preparing to unpack .../03-mingw-w64-i686-dev_7.0.0-2_all.deb ...\n",
            "Unpacking mingw-w64-i686-dev (7.0.0-2) ...\n",
            "Selecting previously unselected package gcc-mingw-w64-base.\n",
            "Preparing to unpack .../04-gcc-mingw-w64-base_9.3.0-7ubuntu1+22~exp1ubuntu4_amd64.deb ...\n",
            "Unpacking gcc-mingw-w64-base (9.3.0-7ubuntu1+22~exp1ubuntu4) ...\n",
            "Selecting previously unselected package gcc-mingw-w64-i686.\n",
            "Preparing to unpack .../05-gcc-mingw-w64-i686_9.3.0-7ubuntu1+22~exp1ubuntu4_amd64.deb ...\n",
            "Unpacking gcc-mingw-w64-i686 (9.3.0-7ubuntu1+22~exp1ubuntu4) ...\n",
            "Selecting previously unselected package g++-mingw-w64-i686.\n",
            "Preparing to unpack .../06-g++-mingw-w64-i686_9.3.0-7ubuntu1+22~exp1ubuntu4_amd64.deb ...\n",
            "Unpacking g++-mingw-w64-i686 (9.3.0-7ubuntu1+22~exp1ubuntu4) ...\n",
            "Selecting previously unselected package mingw-w64-x86-64-dev.\n",
            "Preparing to unpack .../07-mingw-w64-x86-64-dev_7.0.0-2_all.deb ...\n",
            "Unpacking mingw-w64-x86-64-dev (7.0.0-2) ...\n",
            "Selecting previously unselected package gcc-mingw-w64-x86-64.\n",
            "Preparing to unpack .../08-gcc-mingw-w64-x86-64_9.3.0-7ubuntu1+22~exp1ubuntu4_amd64.deb ...\n",
            "Unpacking gcc-mingw-w64-x86-64 (9.3.0-7ubuntu1+22~exp1ubuntu4) ...\n",
            "Selecting previously unselected package g++-mingw-w64-x86-64.\n",
            "Preparing to unpack .../09-g++-mingw-w64-x86-64_9.3.0-7ubuntu1+22~exp1ubuntu4_amd64.deb ...\n",
            "Unpacking g++-mingw-w64-x86-64 (9.3.0-7ubuntu1+22~exp1ubuntu4) ...\n",
            "Selecting previously unselected package g++-mingw-w64.\n",
            "Preparing to unpack .../10-g++-mingw-w64_9.3.0-7ubuntu1+22~exp1ubuntu4_all.deb ...\n",
            "Unpacking g++-mingw-w64 (9.3.0-7ubuntu1+22~exp1ubuntu4) ...\n",
            "Selecting previously unselected package gcc-mingw-w64.\n",
            "Preparing to unpack .../11-gcc-mingw-w64_9.3.0-7ubuntu1+22~exp1ubuntu4_all.deb ...\n",
            "Unpacking gcc-mingw-w64 (9.3.0-7ubuntu1+22~exp1ubuntu4) ...\n",
            "Selecting previously unselected package mingw-w64.\n",
            "Preparing to unpack .../12-mingw-w64_7.0.0-2_all.deb ...\n",
            "Unpacking mingw-w64 (7.0.0-2) ...\n",
            "Setting up binutils-mingw-w64-x86-64 (2.34-5ubuntu1+8.8) ...\n",
            "Setting up gcc-mingw-w64-base (9.3.0-7ubuntu1+22~exp1ubuntu4) ...\n",
            "Setting up binutils-mingw-w64-i686 (2.34-5ubuntu1+8.8) ...\n",
            "Setting up mingw-w64-common (7.0.0-2) ...\n",
            "Setting up mingw-w64-x86-64-dev (7.0.0-2) ...\n",
            "Setting up gcc-mingw-w64-x86-64 (9.3.0-7ubuntu1+22~exp1ubuntu4) ...\n",
            "update-alternatives: using /usr/bin/x86_64-w64-mingw32-gcc-posix to provide /usr/bin/x86_64-w64-mingw32-gcc (x86_64-w64-mingw32-gcc) in auto mode\n",
            "update-alternatives: using /usr/bin/x86_64-w64-mingw32-gcc-win32 to provide /usr/bin/x86_64-w64-mingw32-gcc (x86_64-w64-mingw32-gcc) in auto mode\n",
            "Setting up g++-mingw-w64-x86-64 (9.3.0-7ubuntu1+22~exp1ubuntu4) ...\n",
            "update-alternatives: using /usr/bin/x86_64-w64-mingw32-g++-posix to provide /usr/bin/x86_64-w64-mingw32-g++ (x86_64-w64-mingw32-g++) in auto mode\n",
            "update-alternatives: using /usr/bin/x86_64-w64-mingw32-g++-win32 to provide /usr/bin/x86_64-w64-mingw32-g++ (x86_64-w64-mingw32-g++) in auto mode\n",
            "Setting up mingw-w64-i686-dev (7.0.0-2) ...\n",
            "Setting up gcc-mingw-w64-i686 (9.3.0-7ubuntu1+22~exp1ubuntu4) ...\n",
            "update-alternatives: using /usr/bin/i686-w64-mingw32-gcc-posix to provide /usr/bin/i686-w64-mingw32-gcc (i686-w64-mingw32-gcc) in auto mode\n",
            "update-alternatives: using /usr/bin/i686-w64-mingw32-gcc-win32 to provide /usr/bin/i686-w64-mingw32-gcc (i686-w64-mingw32-gcc) in auto mode\n",
            "Setting up g++-mingw-w64-i686 (9.3.0-7ubuntu1+22~exp1ubuntu4) ...\n",
            "update-alternatives: using /usr/bin/i686-w64-mingw32-g++-posix to provide /usr/bin/i686-w64-mingw32-g++ (i686-w64-mingw32-g++) in auto mode\n",
            "update-alternatives: using /usr/bin/i686-w64-mingw32-g++-win32 to provide /usr/bin/i686-w64-mingw32-g++ (i686-w64-mingw32-g++) in auto mode\n",
            "Setting up gcc-mingw-w64 (9.3.0-7ubuntu1+22~exp1ubuntu4) ...\n",
            "Setting up g++-mingw-w64 (9.3.0-7ubuntu1+22~exp1ubuntu4) ...\n",
            "Setting up mingw-w64 (7.0.0-2) ...\n",
            "Processing triggers for man-db (2.9.1-1) ...\n"
          ]
        }
      ]
    },
    {
      "cell_type": "code",
      "source": [
        "!CC=i686-w64-mingw32-gcc CXX=i686-w64-mingw32-g++ python '/home/setup.py' build"
      ],
      "metadata": {
        "colab": {
          "base_uri": "https://localhost:8080/"
        },
        "id": "7Hf9g3fUNNPz",
        "outputId": "f3f3e0f4-a7e3-42e1-e166-5f73f4887bc9"
      },
      "execution_count": 19,
      "outputs": [
        {
          "output_type": "stream",
          "name": "stdout",
          "text": [
            "Traceback (most recent call last):\n",
            "  File \"/home/setup.py\", line 18, in <module>\n",
            "    executables=[Executable(\"m.py\", base=base)],\n",
            "  File \"/usr/local/lib/python3.9/dist-packages/cx_Freeze/executable.py\", line 53, in __init__\n",
            "    self.base = base\n",
            "  File \"/usr/local/lib/python3.9/dist-packages/cx_Freeze/executable.py\", line 95, in base\n",
            "    raise ConfigError(f\"no base named {name!r} ({name_base!r})\")\n",
            "cx_Freeze.exception.ConfigError: no base named 'Win32GUI' ('Win32GUI-cpython-39-x86_64-linux-gnu')\n"
          ]
        }
      ]
    },
    {
      "cell_type": "code",
      "source": [
        "!CC=i686-w64-mingw32-gcc CXX=i686-w64-mingw32-g++ python '/home/setup.py' build_exe --target-name MyApp.exe --base-name Win32GUI\n"
      ],
      "metadata": {
        "colab": {
          "base_uri": "https://localhost:8080/"
        },
        "id": "UUkngDpeNdeA",
        "outputId": "792f48bf-5e7e-43be-82be-d3ed9e2fc3e4"
      },
      "execution_count": 21,
      "outputs": [
        {
          "output_type": "stream",
          "name": "stdout",
          "text": [
            "Traceback (most recent call last):\n",
            "  File \"/home/setup.py\", line 18, in <module>\n",
            "    executables=[Executable(\"m.py\", base=base)],\n",
            "  File \"/usr/local/lib/python3.9/dist-packages/cx_Freeze/executable.py\", line 53, in __init__\n",
            "    self.base = base\n",
            "  File \"/usr/local/lib/python3.9/dist-packages/cx_Freeze/executable.py\", line 95, in base\n",
            "    raise ConfigError(f\"no base named {name!r} ({name_base!r})\")\n",
            "cx_Freeze.exception.ConfigError: no base named 'Win32GUI' ('Win32GUI-cpython-39-x86_64-linux-gnu')\n"
          ]
        }
      ]
    },
    {
      "cell_type": "code",
      "source": [
        "!pip install py2exe"
      ],
      "metadata": {
        "colab": {
          "base_uri": "https://localhost:8080/"
        },
        "id": "pOiL-MAtOgcs",
        "outputId": "545a7d91-1cfe-4b16-f23b-6c303648af4d"
      },
      "execution_count": 22,
      "outputs": [
        {
          "output_type": "stream",
          "name": "stdout",
          "text": [
            "Looking in indexes: https://pypi.org/simple, https://us-python.pkg.dev/colab-wheels/public/simple/\n",
            "Collecting py2exe\n",
            "  Downloading py2exe-0.12.0.2.tar.gz (124 kB)\n",
            "\u001b[2K     \u001b[90m━━━━━━━━━━━━━━━━━━━━━━━━━━━━━━━━━━━━━━━\u001b[0m \u001b[32m124.3/124.3 kB\u001b[0m \u001b[31m4.1 MB/s\u001b[0m eta \u001b[36m0:00:00\u001b[0m\n",
            "\u001b[?25h  \u001b[1;31merror\u001b[0m: \u001b[1msubprocess-exited-with-error\u001b[0m\n",
            "  \n",
            "  \u001b[31m×\u001b[0m \u001b[32mpython setup.py egg_info\u001b[0m did not run successfully.\n",
            "  \u001b[31m│\u001b[0m exit code: \u001b[1;36m1\u001b[0m\n",
            "  \u001b[31m╰─>\u001b[0m See above for output.\n",
            "  \n",
            "  \u001b[1;35mnote\u001b[0m: This error originates from a subprocess, and is likely not a problem with pip.\n",
            "  Preparing metadata (setup.py) ... \u001b[?25l\u001b[?25herror\n",
            "\u001b[1;31merror\u001b[0m: \u001b[1mmetadata-generation-failed\u001b[0m\n",
            "\n",
            "\u001b[31m×\u001b[0m Encountered error while generating package metadata.\n",
            "\u001b[31m╰─>\u001b[0m See above for output.\n",
            "\n",
            "\u001b[1;35mnote\u001b[0m: This is an issue with the package mentioned above, not pip.\n",
            "\u001b[1;36mhint\u001b[0m: See above for details.\n"
          ]
        }
      ]
    },
    {
      "cell_type": "code",
      "source": [
        "!pip install nuitka"
      ],
      "metadata": {
        "colab": {
          "base_uri": "https://localhost:8080/"
        },
        "id": "QRf2UngzPGWx",
        "outputId": "7033d10a-79dd-43e7-da0a-52884ead9c82"
      },
      "execution_count": 23,
      "outputs": [
        {
          "output_type": "stream",
          "name": "stdout",
          "text": [
            "Looking in indexes: https://pypi.org/simple, https://us-python.pkg.dev/colab-wheels/public/simple/\n",
            "Collecting nuitka\n",
            "  Downloading Nuitka-1.5.5.tar.gz (4.2 MB)\n",
            "\u001b[2K     \u001b[90m━━━━━━━━━━━━━━━━━━━━━━━━━━━━━━━━━━━━━━━━\u001b[0m \u001b[32m4.2/4.2 MB\u001b[0m \u001b[31m30.7 MB/s\u001b[0m eta \u001b[36m0:00:00\u001b[0m\n",
            "\u001b[?25h  Installing build dependencies ... \u001b[?25l\u001b[?25hdone\n",
            "  Getting requirements to build wheel ... \u001b[?25l\u001b[?25hdone\n",
            "  Preparing metadata (pyproject.toml) ... \u001b[?25l\u001b[?25hdone\n",
            "Collecting ordered-set>=4.1.0\n",
            "  Downloading ordered_set-4.1.0-py3-none-any.whl (7.6 kB)\n",
            "Collecting zstandard>=0.15\n",
            "  Downloading zstandard-0.20.0-cp39-cp39-manylinux_2_17_x86_64.manylinux2014_x86_64.whl (2.6 MB)\n",
            "\u001b[2K     \u001b[90m━━━━━━━━━━━━━━━━━━━━━━━━━━━━━━━━━━━━━━━━\u001b[0m \u001b[32m2.6/2.6 MB\u001b[0m \u001b[31m32.1 MB/s\u001b[0m eta \u001b[36m0:00:00\u001b[0m\n",
            "\u001b[?25hBuilding wheels for collected packages: nuitka\n",
            "  Building wheel for nuitka (pyproject.toml) ... \u001b[?25l\u001b[?25hdone\n",
            "  Created wheel for nuitka: filename=Nuitka-1.5.5-cp39-cp39-linux_x86_64.whl size=2878776 sha256=000dcd090f6881d6009c70632c0d8f2680a70551b916435bb24a827545a3e0b2\n",
            "  Stored in directory: /root/.cache/pip/wheels/80/c3/45/e0adbafdb89264f5b711bb25c1777e36e4d7449cdf94e04ee1\n",
            "Successfully built nuitka\n",
            "Installing collected packages: zstandard, ordered-set, nuitka\n",
            "Successfully installed nuitka-1.5.5 ordered-set-4.1.0 zstandard-0.20.0\n"
          ]
        }
      ]
    },
    {
      "cell_type": "code",
      "source": [
        "!sudo apt-get install gcc-mingw-w64-x86-64 g++-mingw-w64-x86-64\n"
      ],
      "metadata": {
        "colab": {
          "base_uri": "https://localhost:8080/"
        },
        "id": "wlSMq2GsPdkk",
        "outputId": "11273ae2-66d9-4f4d-d96b-ed29e1d90c18"
      },
      "execution_count": 24,
      "outputs": [
        {
          "output_type": "stream",
          "name": "stdout",
          "text": [
            "Reading package lists... Done\n",
            "Building dependency tree       \n",
            "Reading state information... Done\n",
            "g++-mingw-w64-x86-64 is already the newest version (9.3.0-7ubuntu1+22~exp1ubuntu4).\n",
            "g++-mingw-w64-x86-64 set to manually installed.\n",
            "gcc-mingw-w64-x86-64 is already the newest version (9.3.0-7ubuntu1+22~exp1ubuntu4).\n",
            "gcc-mingw-w64-x86-64 set to manually installed.\n",
            "0 upgraded, 0 newly installed, 0 to remove and 24 not upgraded.\n"
          ]
        }
      ]
    },
    {
      "cell_type": "code",
      "source": [
        "!nuitka --mingw64 'home/m.py'"
      ],
      "metadata": {
        "colab": {
          "base_uri": "https://localhost:8080/"
        },
        "id": "7t2yK2CLPxqJ",
        "outputId": "ce729325-fad9-48c9-d500-51b142387787"
      },
      "execution_count": 25,
      "outputs": [
        {
          "output_type": "stream",
          "name": "stdout",
          "text": [
            "/bin/bash: nuitka: command not found\n"
          ]
        }
      ]
    },
    {
      "cell_type": "code",
      "source": [
        "!pip show nuitka\n"
      ],
      "metadata": {
        "colab": {
          "base_uri": "https://localhost:8080/"
        },
        "id": "FnilnA3fQAA4",
        "outputId": "8b604c53-9ce1-4e2f-9d38-7d635e699c90"
      },
      "execution_count": 26,
      "outputs": [
        {
          "output_type": "stream",
          "name": "stdout",
          "text": [
            "Name: Nuitka\n",
            "Version: 1.5.5\n",
            "Summary: Python compiler with full language support and CPython compatibility\n",
            "Home-page: https://nuitka.net\n",
            "Author: Kay Hayen\n",
            "Author-email: Kay.Hayen@gmail.com\n",
            "License: Apache License, Version 2.0\n",
            "Location: /usr/local/lib/python3.9/dist-packages\n",
            "Requires: ordered-set, zstandard\n",
            "Required-by: \n"
          ]
        }
      ]
    },
    {
      "cell_type": "code",
      "source": [
        "!python -m nuitka --standalone --debug '/home/m.py' --mingw64"
      ],
      "metadata": {
        "colab": {
          "base_uri": "https://localhost:8080/"
        },
        "id": "ak9XB5oZUDC_",
        "outputId": "7df4a30e-2d6f-41b5-eb09-299dbf1daea1"
      },
      "execution_count": null,
      "outputs": [
        {
          "output_type": "stream",
          "name": "stdout",
          "text": [
            "Nuitka-Options:INFO: Used command line options: --standalone --debug /home/m.py --mingw64\n",
            "\u001b[91mNuitka-Options:WARNING: Requesting Windows specific compilers has no effect on other platforms.\n",
            "\u001b[0mNuitka:INFO: Starting Python compilation with Nuitka '1.5.5' on Python '3.9' commercial grade 'not installed'.\n",
            "\u001b[91mNuitka-Plugins:WARNING: anti-bloat: Undesirable import of 'numba' at '/usr/local/lib/python3.9/dist-packages/pandas/core/_numba/kernels/var_.py:11' encountered. It may slow down compilation.\n",
            "\u001b[91mNuitka-Plugins:WARNING:     Complex topic! More information can be found at \u001b[94mhttps://nuitka.net/info/unwanted-module.html\n",
            "\u001b[91mNuitka-Plugins:WARNING: options-nanny: Using module (numba (0, 56, 4)) with no support: Numba is not yet working with Nuitka standalone, recommended to use '--noinclude-numba-mode'\n",
            "Nuitka-Plugins:INFO: multiprocessing: Injecting pre-module load code for module 'multiprocessing':\n",
            "Nuitka-Plugins:INFO: multiprocessing:     Monkey patching \"multiprocessing\" load environment.\n",
            "Nuitka-Plugins:INFO: multiprocessing: Injecting post-module load code for module 'multiprocessing':\n",
            "Nuitka-Plugins:INFO: multiprocessing:     Monkey patching \"multiprocessing\" for compiled methods.\n",
            "PASS 1:  56% 674/1202 [05:07<01:51,  4.74module/s, scipy.sparse.linalg._onenormest]"
          ]
        }
      ]
    },
    {
      "cell_type": "code",
      "source": [],
      "metadata": {
        "id": "mydWmWUcUYhP"
      },
      "execution_count": null,
      "outputs": []
    },
    {
      "cell_type": "code",
      "source": [],
      "metadata": {
        "id": "YYArtDSVUmTy"
      },
      "execution_count": null,
      "outputs": []
    },
    {
      "cell_type": "code",
      "source": [
        "!nano ~/.bashrc\n"
      ],
      "metadata": {
        "colab": {
          "base_uri": "https://localhost:8080/"
        },
        "id": "wF4DXelQQk8X",
        "outputId": "5eef645f-1c4a-4043-fabd-177d385e08a3"
      },
      "execution_count": 30,
      "outputs": [
        {
          "output_type": "stream",
          "name": "stdout",
          "text": [
            "/bin/bash: nano: command not found\n"
          ]
        }
      ]
    }
  ]
}